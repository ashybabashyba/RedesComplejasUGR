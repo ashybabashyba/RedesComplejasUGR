{
 "cells": [
  {
   "cell_type": "markdown",
   "metadata": {},
   "source": [
    "# Ejercicios Primera Parte. Física de Redes Complejas y Aplicaciones Interdisciplinares.\n",
    "#### Carlos J. Ramos Salas.\n",
    "En este notebook se podrán conseguir los códigos y soluciones a los ejercicios propuestos para entregar en el curso de Física de Redes Complejas y Aplicaciones Interdisciplinares. Por comodidad, muchos de los códigos usados no se presentan acá si no que se definen como funciones externas las cuales pueden ser encontradas en el repositorio de [GitHub asociado](https://github.com/ashybabashyba/RedesComplejasUGR) (https://github.com/ashybabashyba/RedesComplejasUGR).\n",
    "\n",
    "##### Librerias necesarias:"
   ]
  },
  {
   "cell_type": "code",
   "execution_count": 8,
   "metadata": {},
   "outputs": [],
   "source": [
    "import networkx as nx\n",
    "import matplotlib.pyplot as plt\n",
    "import numpy as np\n",
    "import random"
   ]
  },
  {
   "cell_type": "markdown",
   "metadata": {},
   "source": [
    "## Capítulo 1: Introducción a los sistemas complejos."
   ]
  },
  {
   "cell_type": "markdown",
   "metadata": {},
   "source": [
    "### Ejercicio 1\n",
    "Simular y analizar el comportamiento complejo del atrayente de Lorentz.\n",
    "$\\begin{align}\n",
    "    \\dfrac{dx}{dt} &= a(y-x), \\\\\n",
    "    \\dfrac{dy}{dt} &= x(b-z)-y, \\\\\n",
    "    \\dfrac{dz}{dt} &= xy-cz.\n",
    "\\end{align}$"
   ]
  },
  {
   "cell_type": "markdown",
   "metadata": {},
   "source": [
    "Las ecuaciones diferenciales se resuelven de manera numérica por medio de un algoritmo de Runge-Kutta presentado en el archivo \"RungeKuta.m\"."
   ]
  },
  {
   "cell_type": "code",
   "execution_count": null,
   "metadata": {},
   "outputs": [],
   "source": [
    "from RungeKuta import CrearFuncionLorenz\n",
    "a=1\n",
    "b=2\n",
    "c=3\n",
    "\n",
    "Lorenz=CrearFuncionLorenz(a,b,c)"
   ]
  }
 ],
 "metadata": {
  "kernelspec": {
   "display_name": "Python 3",
   "language": "python",
   "name": "python3"
  },
  "language_info": {
   "codemirror_mode": {
    "name": "ipython",
    "version": 3
   },
   "file_extension": ".py",
   "mimetype": "text/x-python",
   "name": "python",
   "nbconvert_exporter": "python",
   "pygments_lexer": "ipython3",
   "version": "3.11.8"
  }
 },
 "nbformat": 4,
 "nbformat_minor": 2
}
