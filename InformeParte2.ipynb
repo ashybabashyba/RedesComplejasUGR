{
 "cells": [
  {
   "cell_type": "markdown",
   "metadata": {},
   "source": [
    "# Ejercicios Segunda Parte. Física de Redes Complejas y Aplicaciones Interdisciplinares.\n",
    "#### Carlos J. Ramos Salas.\n",
    "En este notebook corresponde al informe a la actividad a entregar en la segunda parte de este curso, en el cual se busca replicar algunos resultados presentados en el artículo: Johnson, S., Domínguez-García, V., Donetti, L., & Muñoz, M. A. (2014). Trophic coherence\n",
    "determines food-web stability. Proceedings of the National Academy of Sciences, 111(50), 17923-17928. En el cual se estudia el modelo de depredación preferente en una red trófica. Este notebook junto al correspondiente a los ejercicios de la parte anterior puede ser encontrado en el repositorio de [GitHub asociado](https://github.com/ashybabashyba/RedesComplejasUGR) (https://github.com/ashybabashyba/RedesComplejasUGR)."
   ]
  },
  {
   "cell_type": "code",
   "execution_count": 1,
   "metadata": {},
   "outputs": [],
   "source": [
    "import networkx as nx\n",
    "from netgraph import Graph\n",
    "import matplotlib.pyplot as plt\n",
    "import numpy as np\n",
    "import random "
   ]
  },
  {
   "cell_type": "markdown",
   "metadata": {},
   "source": [
    "### 2. Modelo computacional."
   ]
  },
  {
   "cell_type": "markdown",
   "metadata": {},
   "source": [
    "Se busca reproducir la figura 2(b) del artículo de referencia, en el cual se representa el parámetro de incoherencia $(q)$ en términos de la temperatura $(T)$ para una red trófica modelada por depredación preferente con un total de $77$ especies, de las cuales $40$ son basales y un total de $181$ enlaces.\n",
    "\n",
    "Para armar la red comenzamos asignando todas las especies basales en el primer nivel trófico $l = 1$, luego añadimos uno a uno cada especie no basal, por cada uno de ellos calculamos un número aleatorio, distribuido a partir de un distribución $\\beta$ con el fin de determinar el número total de presas ($k_i$) teniendo en cuenta a $s_i$ (conjunto de las especies existentes antes de añadir la especie $i$-ésima), así, $k_i = x s_i$ con\n",
    "\\begin{equation*}\n",
    "    x \\in f(x; \\ 1, \\beta) = \\beta (1-x')^{\\beta - 1}; \\ \\ \\ \\ \\text{con } \\beta = \\dfrac{S^2 - B^2}{2L}-1.\n",
    "\\end{equation*}\n",
    " Una vez teniendo esto, se añade el nodo $i$-ésimo y en caso donde $k_i \\neq 0$, se escoge una primera presa aleatoria en $s_i$, sin pérdida de generalidad digamos que es el nodo $j$-ésimo, luego a partir de aquí se van pasando por los nodos restantes de $s_i$ y con una probabilidad proporcional a $exp(-|l_j - l_m|/T)$ se crea un enlace o no hasta haber pasado por todos los nodos o haber creado la cantidad de enlaces correspondientes según el número de presas; finalmente, se calcula el nivel trófico de la especie $i$ como sigue\n",
    "\\begin{equation}\n",
    "    l_i = \\dfrac{1}{k_i} \\sum_j a_{ij}l_j + 1,\n",
    "\\end{equation}\n",
    "en donde $a_{ij}$ es igual a $1$ si existe conexión de $i$ dirigida a $j$ y cero en caso contrario. Este proceso se repite con cada especie hasta haber añadido todo el resto de especies no basales y tener representado en un grafo dirigido las especies totales y el nivel trófico de cada uno con sus respectivas presas, computacionalmente se construye como se muestra a continuación."
   ]
  },
  {
   "cell_type": "code",
   "execution_count": 30,
   "metadata": {},
   "outputs": [],
   "source": [
    "def generacionRedTrofica(T_var):\n",
    "    # Parámetros característicos de la red trófica\n",
    "    S = 77\n",
    "    B = 40\n",
    "    L = 181\n",
    "    beta = (S**2 - B**2)/(2*L) - 1\n",
    "    T = T_var\n",
    "\n",
    "    # Creación del grafo dirigido que representa a la red\n",
    "    G = nx.DiGraph()\n",
    "\n",
    "    # Ciclo for para añadir las especies basales con nivel trófico igual a 1\n",
    "    for i in range(1, B+1):\n",
    "        G.add_node(f\"Especie Basal {i}\", level=1)\n",
    "\n",
    "    # Ciclo for para calcular las conexiones del nuevo depredador y añadir ese nodo con su respectivo nivel trófico\n",
    "    for i in range(B+1, S+1):\n",
    "        x = (1 - (1 - random.uniform(0, 1))**(1 / beta))         # El número aleatorio no considera ni a 1 ni 0\n",
    "        k = np.floor(x*len(G.nodes()))\n",
    "        # print(k)\n",
    "\n",
    "        # Selección aleatoria de una primera presa\n",
    "        random_node = random.choice(list(G.nodes()))\n",
    "        G.add_node(f\"Especie no Basal {i}\", level=G.nodes[random_node]['level'] + 1)\n",
    "        G.add_edge(random_node, f\"Especie no Basal {i}\")\n",
    "\n",
    "        \n",
    "        # Calculo de la normalizacion de la probabilidad\n",
    "        norm_p = 0\n",
    "        for node in G.nodes():\n",
    "            if node != f\"Especie no Basal {i}\":\n",
    "                norm_p += np.exp(-np.abs(G.nodes[random_node]['level'] - G.nodes[node]['level'])/T)\n",
    "        \n",
    "        # Generación del resto de presas\n",
    "        k_in = G.in_degree(f\"Especie no Basal {i}\")\n",
    "        l_i = G.nodes[random_node]['level']\n",
    "        l = l_i\n",
    "\n",
    "        # En este ciclo for se añade el resto de presas, idealmente debería haber un while(k_in < k) antes para tener exacto la cantidad de presas\n",
    "        # que se generan aleatoriamente, sin embargo esto aumenta considerablemente el coste computacional, por lo que es omitido.\n",
    "        while(k_in < k):\n",
    "            for node in G.nodes():\n",
    "                if not G.has_edge(node, f\"Especie no Basal {i}\"):\n",
    "                    l_m = G.nodes[node]['level']\n",
    "\n",
    "                    p = np.exp(-np.abs(l_i - l_m)/T)/norm_p\n",
    "\n",
    "                    if p > random.uniform(0, 1):\n",
    "                        G.add_edge(node, f\"Especie no Basal {i}\")\n",
    "                        l += l_m\n",
    "                        k_in += 1\n",
    "\n",
    "                    if k_in >= k:\n",
    "                        break\n",
    "\n",
    "        # Actualizacion de niveles tróficos del nodo estudiado\n",
    "        l = 1 + l/k_in\n",
    "        G.nodes[f\"Especie no Basal {i}\"]['level'] = l\n",
    "\n",
    "\n",
    "    # Cálculo del parametro de incoherencia\n",
    "    adj_matrix  = nx.adjacency_matrix(G).todense().T\n",
    "    trophic_lvl = [G.nodes[node]['level'] for node in G.nodes()]\n",
    "    # print(np.sum(adj_matrix))\n",
    "    l_1 = 0\n",
    "    l_2 = 0\n",
    "\n",
    "    # print(adj_matrix)\n",
    "    # print(trophic_lvl)\n",
    "\n",
    "    for i in range(adj_matrix.shape[0]):\n",
    "        for j in range(adj_matrix.shape[1]):\n",
    "            l_2 += (trophic_lvl[i] - trophic_lvl[j])**2*adj_matrix[i,j]\n",
    "            l_1 += (trophic_lvl[i] - trophic_lvl[j])*adj_matrix[i,j]\n",
    "    l_1 = l_1/np.sum(adj_matrix) \n",
    "    l_2 = l_2/np.sum(adj_matrix)\n",
    "    q = np.sqrt(l_2 - 1)\n",
    "    # print(\"q = \", q, \"- T = \", T)\n",
    "    # print(\"l_1 =\", l_1) \n",
    "            \n",
    "    ## Print a consola de todos los nodos con sus respectivos niveles tróficos en caso de querer comparar\n",
    "    # for nodo in G.nodes():\n",
    "    #     print(\"Nodo:\", nodo, \"- Nivel trófico:\", G.nodes[nodo]['level'])\n",
    "\n",
    "    return q, G\n",
    "\n",
    "q, G = generacionRedTrofica(0.1)"
   ]
  },
  {
   "cell_type": "markdown",
   "metadata": {},
   "source": [
    "En este código primero se inicializan los parámetros de la red $S, N, L, T$; luego de ello generamos un grafo dirigido vacío donde iremos almacenando la información de los nodos/especies y sus respectivos niveles tróficos. Por cada especie basal i, añadimos un nodo que guardamos con el nombre \"Especie Basal $i$\" y le asignamos un nivel trófico igual a $1$ (que guardamos con la característica denominado \"level\").\n",
    "\n",
    "Iniciamos luego un ciclo for para las especies no basales, escogemos primero un nodo de manera aleatoria de aquellos que ya han sido agregados previamente al grafo G utilizando la función \"random.choice\", creamos entonces un nuevo nodo que llamamos \"Especie no Basal $i$\" y creamos una conexión entre este nodo y el escogido aleatoriamente, luego, le asignamos a la especie no basal un nivel trófico auxiliar igual al nivel trófico del nodo aleatorio más $1$, esto con el fin de poder utilizar luego el mismo nodo consigo mismo para generar conexiones y poder modelar fenómenos como canibalismo. Se genera el número aleatorio de presas adicionalmente y creamos luego un bucle \"while\" para crear conexiones hasta que la especie no basal $i$ tenga un número de presas igual al número aleatorio (siguiendo el proceso descrito en el párrafo anterior al código), con esto finalmente actualizamos también el nivel trófico de la especie en la que estamos iterando y lo realizamos hasta que nuestra red tenga el número de nodos deseados.\n",
    "\n",
    "Este proceso descrito anteriormente ya de por si construye toda la red trófica a estudiar y lo almacena en el grafo dirigido G, fuera de estos ciclos finalmente se hace un post procesamiento donde usando los datos de G y los niveles tróficos se calculan los valores esperados $\\langle l \\rangle$ y $\\langle l^2 \\rangle$ junto con el parámetro de incoherencia $q$ como sigue\n",
    "\n",
    "\\begin{align}\n",
    "    \\langle l \\rangle &= \\dfrac{1}{L} \\sum_{ij} a_{ij} (l_i - l_j), \\\\\n",
    "    \\langle l^2 \\rangle &= \\dfrac{1}{L} \\sum_{ij} a_{ij} (l_i - l_j)^2, \\\\\n",
    "    q &= \\sqrt{\\langle l^2 \\rangle - 1}.\n",
    "\\end{align}\n",
    "\n",
    "Para facilidad de exportación de resultados y no volver a repetir código en la siguiente sección, se convierte toda esta rutina en una función que devuelve tanto el grafo G como el valor de q. "
   ]
  },
  {
   "cell_type": "markdown",
   "metadata": {},
   "source": [
    "### 3. Reproducción de resultados."
   ]
  },
  {
   "cell_type": "markdown",
   "metadata": {},
   "source": [
    "Con la rutina para calcular $q$ establecida, ya se puede replicar el resultado de la figura 2b como solicita el ejercicio, en este caso hay que tener en cuenta que al realizarse procesos probabilísticos, será necesario para cada temperatura realizar varias mediciones para poder promediar el valor de $q$ y adicionalmente poder calcular la desviación estándar de las mismas (usando en este caso una función de numpy), luego de realizar estos procesos estadísticos, es necesario replicarlo para cada temperatura a medir, de esta manera tenemos entonces el siguiente código."
   ]
  },
  {
   "cell_type": "code",
   "execution_count": 41,
   "metadata": {},
   "outputs": [
    {
     "name": "stdout",
     "output_type": "stream",
     "text": [
      "Terminado ciclo T=  0.15\n",
      "Terminado ciclo T=  0.25\n",
      "Terminado ciclo T=  0.5\n",
      "Terminado ciclo T=  0.75\n",
      "Terminado ciclo T=  1.0\n",
      "Terminado ciclo T=  1.25\n",
      "Terminado ciclo T=  1.5\n",
      "Terminado ciclo T=  1.75\n",
      "Terminado ciclo T=  2.0\n",
      "Terminado ciclo T=  2.25\n",
      "Terminado ciclo T=  2.5\n",
      "[0.12371057589971043, 0.1782962932659817, 0.31007659465293197, 0.3665029021103703, 0.40345123180938564, 0.4327589709574849, 0.43017168722228805, 0.4434339065470044, 0.4604907024068315, 0.449538899799516, 0.46492357281152785]\n",
      "[0.0913665892438852, 0.07109973545344, 0.0587022385768371, 0.06340088139960791, 0.05407919646794186, 0.059073779739827185, 0.05345706790242693, 0.05118149229186999, 0.058436332641839644, 0.057233384774850474, 0.04965766919895508]\n"
     ]
    }
   ],
   "source": [
    "# Valores de temperatura en los que se calculan q y números de pasos para estadística\n",
    "T_values = [0.15, 0.25, 0.50, 0.75, 1.00, 1.25, 1.50, 1.75, 2.00, 2.25, 2.50]\n",
    "N = 100\n",
    "q_mean = []\n",
    "q_std = []\n",
    "\n",
    "for T in T_values:\n",
    "    q_values = []\n",
    "\n",
    "    for _ in range(N):\n",
    "        q, G = generacionRedTrofica(T)\n",
    "        q_values.append(q)\n",
    "\n",
    "    q_mean.append(np.mean(q_values))\n",
    "    q_std.append(np.std(q_values))\n",
    "    print(\"Terminado ciclo T= \", T)\n",
    "\n",
    "\n",
    "print(q_mean)\n",
    "print(q_std)"
   ]
  },
  {
   "cell_type": "markdown",
   "metadata": {},
   "source": [
    "Dado que el código anterior es bastante ineficiente en python para $N$ muy grandes (y además que empeora el rendimiento si $T$ toma valores cercanos al $0$), se optó por separarlo para extraer los datos de $\\overline{q}$ y su respectiva desviación estándar para cada temperatura y reproducir la gráfica en este código de abajo donde insertamos los datos de entrada."
   ]
  },
  {
   "cell_type": "code",
   "execution_count": 45,
   "metadata": {},
   "outputs": [
    {
     "data": {
      "image/png": "[encoded data removed]",
      "text/plain": [
       "<Figure size 1000x600 with 1 Axes>"
      ]
     },
     "metadata": {},
     "output_type": "display_data"
    }
   ],
   "source": [
    "# Datos de entrada, T, q_mean, q_std (Si se ejecutó la anterior celda, los datos quedan almacenados)\n",
    "T_values = [0.15, 0.25, 0.50, 0.75, 1.00, 1.25, 1.50, 1.75, 2.00, 2.25, 2.50]\n",
    "q_mean = [0.12371057589971043, 0.1782962932659817, 0.31007659465293197, 0.3665029021103703, 0.40345123180938564, 0.4327589709574849, 0.43017168722228805, 0.4434339065470044, 0.4604907024068315, 0.449538899799516, 0.46492357281152785]\n",
    "q_std = [0.0913665892438852, 0.07109973545344, 0.0587022385768371, 0.06340088139960791, 0.05407919646794186, 0.059073779739827185, 0.05345706790242693, 0.05118149229186999, 0.058436332641839644, 0.057233384774850474, 0.04965766919895508]\n",
    "\n",
    "plt.figure(figsize=(10, 6))\n",
    "plt.errorbar(T_values, q_mean, yerr=q_std, fmt='o', color='b', ecolor='r', capsize=5)\n",
    "plt.axhline(y=0.18, color='black', linestyle='--')\n",
    "plt.xlabel('Temperatura')\n",
    "plt.ylabel('Parámetro de incoherencia q')\n",
    "plt.ylim(0, 1)\n",
    "plt.grid(True)\n",
    "plt.show()"
   ]
  }
 ],
 "metadata": {
  "kernelspec": {
   "display_name": "Python 3",
   "language": "python",
   "name": "python3"
  },
  "language_info": {
   "codemirror_mode": {
    "name": "ipython",
    "version": 3
   },
   "file_extension": ".py",
   "mimetype": "text/x-python",
   "name": "python",
   "nbconvert_exporter": "python",
   "pygments_lexer": "ipython3",
   "version": "3.11.9"
  }
 },
 "nbformat": 4,
 "nbformat_minor": 2
}
