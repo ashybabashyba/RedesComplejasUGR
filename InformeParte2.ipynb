{
 "cells": [
  {
   "cell_type": "markdown",
   "metadata": {},
   "source": [
    "# Ejercicios Segunda Parte. Física de Redes Complejas y Aplicaciones Interdisciplinares.\n",
    "#### Carlos J. Ramos Salas.\n",
    "En este notebook corresponde al informe a la actividad a entregar en la segunda parte de este curso, en el cual se busca replicar algunos resultados presentados en el artículo: Johnson, S., Domínguez-García, V., Donetti, L., & Muñoz, M. A. (2014). Trophic coherence\n",
    "determines food-web stability. Proceedings of the National Academy of Sciences, 111(50), 17923-17928. En el cual se estudia el modelo de depredación preferente en una red trófica. Este notebook junto al correspondiente a los ejercicios de la parte anterior puede ser encontrado en el repositorio de [GitHub asociado](https://github.com/ashybabashyba/RedesComplejasUGR) (https://github.com/ashybabashyba/RedesComplejasUGR)."
   ]
  },
  {
   "cell_type": "code",
   "execution_count": 1,
   "metadata": {},
   "outputs": [],
   "source": [
    "import networkx as nx\n",
    "from netgraph import Graph\n",
    "import matplotlib.pyplot as plt\n",
    "import numpy as np\n",
    "import random "
   ]
  },
  {
   "cell_type": "markdown",
   "metadata": {},
   "source": [
    "### 2. Modelo computacional."
   ]
  },
  {
   "cell_type": "markdown",
   "metadata": {},
   "source": [
    "Se busca reproducir la figura 2(b) del artículo de referencia, en el cual se representa el parámetro de incoherencia $(q)$ en términos de la temperatura $(T)$ para una red trófica modelada por depredación preferente con un total de $77$ especies, de las cuales $40$ son basales y un total de $181$ enlaces.\n",
    "\n",
    "Para armar la red comenzamos asignando todas las especies basales en el primer nivel trófico $l = 1$, luego añadimos uno a uno cada especie no basal, por cada uno de ellos calculamos un número aleatorio, distribuido a partir de un distribución $\\beta$ con el fin de determinar el número total de presas ($k_i$) teniendo en cuenta a $s_i$ (conjunto de las especies existentes antes de añadir la especie $i$-ésima), así, $k_i = x s_i$ con\n",
    "\\begin{equation*}\n",
    "    x \\in f(x; \\ 1, \\beta) = \\beta (1-x')^{\\beta - 1}; \\ \\ \\ \\ \\text{con } \\beta = \\dfrac{S^2 - B^2}{2L}-1,\n",
    "\\end{equation*}\n",
    "en donde $x'$ es un número aleatorio uniforme entre cero y uno. Una vez teniendo esto, se añade el nodo $i$-ésimo y en caso donde $k_i \\neq 0$, se escoge una primera presa aleatoria en $s_i$, sin pérdida de generalidad digamos que es el nodo $j$-ésimo, luego a partir de aquí se van pasando por los nodos restantes de $s_i$ y con una probabilidad proporcional a $exp(-|l_j - l_m|/T)$ se crea un enlace o no hasta haber pasado por todos los nodos o haber creado la cantidad de enlaces correspondientes según el número de presas; finalmente, se calcula el nivel trófico de la especie $i$ como sigue\n",
    "\\begin{equation}\n",
    "    l_i = \\dfrac{1}{k_i} \\sum_j a_{ij}l_j + 1,\n",
    "\\end{equation}\n",
    "en donde $a_{ij}$ es igual a $1$ si existe conexión de $i$ dirigida a $j$ y cero en caso contrario. Este proceso se repite con cada especie hasta haber añadido todo el resto de especies no basales y tener representado en un grafo dirigido las especies totales y el nivel trófico de cada uno con sus respectivas presas, computacionalmente se construye como se muestra a continuación."
   ]
  },
  {
   "cell_type": "code",
   "execution_count": 12,
   "metadata": {},
   "outputs": [
    {
     "name": "stdout",
     "output_type": "stream",
     "text": [
      "q =  0.16739062869467786 - T =  0.1\n",
      "l_1 = 1.0009722897423425\n"
     ]
    }
   ],
   "source": [
    "# Parámetros característicos de la red trófica\n",
    "S = 77\n",
    "B = 40\n",
    "L = 181\n",
    "beta = (S**2 - B**2)/(2*L) - 1\n",
    "T = 0.1\n",
    "\n",
    "# Creación del grafo dirigido que representa a la red\n",
    "G = nx.DiGraph()\n",
    "\n",
    "# Ciclo for para añadir las especies basales con nivel trófico igual a 1\n",
    "for i in range(1, B+1):\n",
    "    G.add_node(f\"Especie Basal {i}\", level=1)\n",
    "\n",
    "# Ciclo for para calcular las conexiones del nuevo depredador y añadir ese nodo con su respectivo nivel trófico\n",
    "for i in range(B+1, S+1):\n",
    "    x = (1 - (1 - random.uniform(0, 1))**(1 / beta))         # El número aleatorio no considera ni a 1 ni 0\n",
    "    k = np.floor(x*len(G.nodes()))\n",
    "    # print(k)\n",
    "\n",
    "    # Selección aleatoria de una primera presa\n",
    "    random_node = random.choice(list(G.nodes()))\n",
    "    G.add_node(f\"Especie no Basal {i}\", level=G.nodes[random_node]['level'] + 1)\n",
    "    G.add_edge(random_node, f\"Especie no Basal {i}\")\n",
    "\n",
    "    \n",
    "    # Calculo de la normalizacion de la probabilidad\n",
    "    norm_p = 0\n",
    "    for node in G.nodes():\n",
    "        if node != f\"Especie no Basal {i}\":\n",
    "            norm_p += np.exp(-np.abs(G.nodes[random_node]['level'] - G.nodes[node]['level'])/T)\n",
    "    \n",
    "    # Generación del resto de presas\n",
    "    k_in = G.in_degree(f\"Especie no Basal {i}\")\n",
    "    l_i = G.nodes[random_node]['level']\n",
    "    l = l_i\n",
    "\n",
    "    # En este ciclo for se añade el resto de presas, idealmente debería haber un while(k_in < k) antes para tener exacto la cantidad de presas\n",
    "    # que se generan aleatoriamente, sin embargo esto aumenta considerablemente el coste computacional, por lo que es omitido.\n",
    "    while(k_in < k):\n",
    "        for node in G.nodes():\n",
    "            if not G.has_edge(node, f\"Especie no Basal {i}\"):\n",
    "                l_m = G.nodes[node]['level']\n",
    "\n",
    "                p = np.exp(-np.abs(l_i - l_m)/T)/norm_p\n",
    "\n",
    "                if p > random.uniform(0, 1):\n",
    "                    G.add_edge(node, f\"Especie no Basal {i}\")\n",
    "                    l += l_m\n",
    "                    k_in += 1\n",
    "\n",
    "                if k_in >= k:\n",
    "                    break\n",
    "\n",
    "    # Actualizacion de niveles tróficos del nodo estudiado\n",
    "    l = 1 + l/k_in\n",
    "    G.nodes[f\"Especie no Basal {i}\"]['level'] = l\n",
    "\n",
    "\n",
    "# Cálculo del parametro de incoherencia\n",
    "adj_matrix  = nx.adjacency_matrix(G).todense().T\n",
    "trophic_lvl = [G.nodes[node]['level'] for node in G.nodes()]\n",
    "# print(np.sum(adj_matrix))\n",
    "l_1 = 0\n",
    "l_2 = 0\n",
    "\n",
    "# print(adj_matrix)\n",
    "# print(trophic_lvl)\n",
    "\n",
    "for i in range(adj_matrix.shape[0]):\n",
    "  for j in range(adj_matrix.shape[1]):\n",
    "    l_2 += (trophic_lvl[i] - trophic_lvl[j])**2*adj_matrix[i,j]\n",
    "    l_1 += (trophic_lvl[i] - trophic_lvl[j])*adj_matrix[i,j]\n",
    "l_1 = l_1/np.sum(adj_matrix) \n",
    "l_2 = l_2/np.sum(adj_matrix)\n",
    "q = np.sqrt(l_2 - 1)\n",
    "print(\"q = \", q, \"- T = \", T)\n",
    "print(\"l_1 =\", l_1) \n",
    "        \n",
    "## Print a consola de todos los nodos con sus respectivos niveles tróficos en caso de querer comparar\n",
    "# for nodo in G.nodes():\n",
    "#     print(\"Nodo:\", nodo, \"- Nivel trófico:\", G.nodes[nodo]['level'])\n"
   ]
  }
 ],
 "metadata": {
  "kernelspec": {
   "display_name": "Python 3",
   "language": "python",
   "name": "python3"
  },
  "language_info": {
   "codemirror_mode": {
    "name": "ipython",
    "version": 3
   },
   "file_extension": ".py",
   "mimetype": "text/x-python",
   "name": "python",
   "nbconvert_exporter": "python",
   "pygments_lexer": "ipython3",
   "version": "3.11.9"
  }
 },
 "nbformat": 4,
 "nbformat_minor": 2
}
